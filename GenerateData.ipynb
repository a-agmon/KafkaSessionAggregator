{
 "cells": [
  {
   "cell_type": "code",
   "execution_count": 1,
   "id": "f54f6b49-ac77-4b2b-b7d4-8d97df2c7939",
   "metadata": {},
   "outputs": [],
   "source": [
    "import json\n",
    "import confluent_kafka\n",
    "from confluent_kafka import Producer"
   ]
  },
  {
   "cell_type": "code",
   "execution_count": 3,
   "id": "b818feed-3db3-4bd2-b925-df7c9516f137",
   "metadata": {},
   "outputs": [],
   "source": [
    "class UserEvent():\n",
    "    def __init__(self, sessionId, eventType, eventTime):\n",
    "        self.sessionId = sessionId\n",
    "        self.eventType = eventType\n",
    "        self.eventTime = eventTime"
   ]
  },
  {
   "cell_type": "code",
   "execution_count": 4,
   "id": "97a008a7-1063-4aaa-9b2a-837ef74947e7",
   "metadata": {},
   "outputs": [],
   "source": [
    "userEvent = UserEvent(\"1234\", \"SESSION_START\", 12345678)"
   ]
  },
  {
   "cell_type": "code",
   "execution_count": 6,
   "id": "b2732774-15b4-4128-b19f-953b468a1620",
   "metadata": {},
   "outputs": [
    {
     "data": {
      "text/plain": [
       "{'sessionId': '1234', 'eventType': 'SESSION_START', 'eventTime': 12345678}"
      ]
     },
     "execution_count": 6,
     "metadata": {},
     "output_type": "execute_result"
    }
   ],
   "source": [
    "userEvent.__dict__"
   ]
  },
  {
   "cell_type": "code",
   "execution_count": 7,
   "id": "5501e35f-6ea1-46ee-8849-81061241f187",
   "metadata": {},
   "outputs": [
    {
     "data": {
      "text/plain": [
       "'{\"sessionId\": \"1234\", \"eventType\": \"SESSION_START\", \"eventTime\": 12345678}'"
      ]
     },
     "execution_count": 7,
     "metadata": {},
     "output_type": "execute_result"
    }
   ],
   "source": [
    "# as string\n",
    "json.dumps(userEvent.__dict__)"
   ]
  },
  {
   "cell_type": "code",
   "execution_count": 42,
   "id": "7016f874-6b1b-473a-9f4b-2e38b4d87ce0",
   "metadata": {},
   "outputs": [
    {
     "data": {
      "text/plain": [
       "b'{\"sessionId\": \"1234\", \"eventType\": \"SESSION_START\", \"eventTime\": 12345678}'"
      ]
     },
     "execution_count": 42,
     "metadata": {},
     "output_type": "execute_result"
    }
   ],
   "source": [
    "# a byte array\n",
    "json.dumps(userEvent.__dict__).encode('utf-8')"
   ]
  },
  {
   "cell_type": "code",
   "execution_count": 9,
   "id": "7a91e97f-9514-4a4f-bc34-2ebecee0a76e",
   "metadata": {},
   "outputs": [],
   "source": [
    "kmsg_value = json.dumps(userEvent.__dict__).encode('utf-8')\n",
    "kmsg_key = userEvent.sessionId"
   ]
  },
  {
   "cell_type": "code",
   "execution_count": 11,
   "id": "ca384020-aad7-4add-b51c-5b82db64dd35",
   "metadata": {},
   "outputs": [],
   "source": [
    "conf = {'bootstrap.servers': \"127.0.0.1:9092\",\n",
    "        'client.id': 'serializing test'}\n",
    "\n",
    "kproducer = Producer(conf)"
   ]
  },
  {
   "cell_type": "code",
   "execution_count": 13,
   "id": "f5cfa417-79b8-4520-88b2-fd5bafb2a26e",
   "metadata": {},
   "outputs": [],
   "source": [
    "#kproducer.produce('sessions-input-1', key=kmsg_key, value=kmsg_value)\n",
    "#kproducer"
   ]
  },
  {
   "cell_type": "code",
   "execution_count": 36,
   "id": "1255eef2",
   "metadata": {},
   "outputs": [
    {
     "name": "stdout",
     "output_type": "stream",
     "text": [
      "26531614d9c611ec9a5aacde48001122\n",
      "2653be0cd9c611ec9a5aacde48001122\n",
      "2653c1b8d9c611ec9a5aacde48001122\n",
      "2653c348d9c611ec9a5aacde48001122\n",
      "2653dc84d9c611ec9a5aacde48001122\n",
      "26544232d9c611ec9a5aacde48001122\n",
      "26544fb6d9c611ec9a5aacde48001122\n",
      "26545236d9c611ec9a5aacde48001122\n",
      "26546c80d9c611ec9a5aacde48001122\n",
      "26546e92d9c611ec9a5aacde48001122\n"
     ]
    },
    {
     "name": "stderr",
     "output_type": "stream",
     "text": [
      "%3|1653220564.953|FAIL|serializing test#producer-2| [thrd:127.0.0.1:9092/bootstrap]: 127.0.0.1:9092/0: Connect to ipv4#127.0.0.1:9092 failed: Connection refused (after 0ms in state CONNECT, 30 identical error(s) suppressed)\n",
      "%3|1653220595.035|FAIL|serializing test#producer-2| [thrd:127.0.0.1:9092/bootstrap]: 127.0.0.1:9092/0: Connect to ipv4#127.0.0.1:9092 failed: Connection refused (after 0ms in state CONNECT, 30 identical error(s) suppressed)\n",
      "%3|1653220625.120|FAIL|serializing test#producer-2| [thrd:127.0.0.1:9092/bootstrap]: 127.0.0.1:9092/0: Connect to ipv4#127.0.0.1:9092 failed: Connection refused (after 0ms in state CONNECT, 30 identical error(s) suppressed)\n",
      "%3|1653220655.202|FAIL|serializing test#producer-2| [thrd:127.0.0.1:9092/bootstrap]: 127.0.0.1:9092/0: Connect to ipv4#127.0.0.1:9092 failed: Connection refused (after 0ms in state CONNECT, 30 identical error(s) suppressed)\n",
      "%3|1653220685.286|FAIL|serializing test#producer-2| [thrd:127.0.0.1:9092/bootstrap]: 127.0.0.1:9092/0: Connect to ipv4#127.0.0.1:9092 failed: Connection refused (after 0ms in state CONNECT, 30 identical error(s) suppressed)\n",
      "%3|1653220715.372|FAIL|serializing test#producer-2| [thrd:127.0.0.1:9092/bootstrap]: 127.0.0.1:9092/0: Connect to ipv4#127.0.0.1:9092 failed: Connection refused (after 0ms in state CONNECT, 30 identical error(s) suppressed)\n",
      "%3|1653220745.465|FAIL|serializing test#producer-2| [thrd:127.0.0.1:9092/bootstrap]: 127.0.0.1:9092/0: Connect to ipv4#127.0.0.1:9092 failed: Connection refused (after 0ms in state CONNECT, 30 identical error(s) suppressed)\n",
      "%3|1653220775.557|FAIL|serializing test#producer-2| [thrd:127.0.0.1:9092/bootstrap]: 127.0.0.1:9092/0: Connect to ipv4#127.0.0.1:9092 failed: Connection refused (after 0ms in state CONNECT, 31 identical error(s) suppressed)\n",
      "%3|1653220805.650|FAIL|serializing test#producer-2| [thrd:127.0.0.1:9092/bootstrap]: 127.0.0.1:9092/0: Connect to ipv4#127.0.0.1:9092 failed: Connection refused (after 0ms in state CONNECT, 30 identical error(s) suppressed)\n",
      "%3|1653220835.745|FAIL|serializing test#producer-2| [thrd:127.0.0.1:9092/bootstrap]: 127.0.0.1:9092/0: Connect to ipv4#127.0.0.1:9092 failed: Connection refused (after 0ms in state CONNECT, 30 identical error(s) suppressed)\n",
      "%3|1653220865.842|FAIL|serializing test#producer-2| [thrd:127.0.0.1:9092/bootstrap]: 127.0.0.1:9092/0: Connect to ipv4#127.0.0.1:9092 failed: Connection refused (after 0ms in state CONNECT, 30 identical error(s) suppressed)\n",
      "%3|1653220895.921|FAIL|serializing test#producer-2| [thrd:127.0.0.1:9092/bootstrap]: 127.0.0.1:9092/0: Connect to ipv4#127.0.0.1:9092 failed: Connection refused (after 0ms in state CONNECT, 30 identical error(s) suppressed)\n",
      "%3|1653220926.015|FAIL|serializing test#producer-2| [thrd:127.0.0.1:9092/bootstrap]: 127.0.0.1:9092/0: Connect to ipv4#127.0.0.1:9092 failed: Connection refused (after 0ms in state CONNECT, 30 identical error(s) suppressed)\n",
      "%3|1653220956.131|FAIL|serializing test#producer-2| [thrd:127.0.0.1:9092/bootstrap]: 127.0.0.1:9092/0: Connect to ipv4#127.0.0.1:9092 failed: Connection refused (after 0ms in state CONNECT, 30 identical error(s) suppressed)\n",
      "%3|1653220986.341|FAIL|serializing test#producer-2| [thrd:127.0.0.1:9092/bootstrap]: 127.0.0.1:9092/0: Connect to ipv4#127.0.0.1:9092 failed: Connection refused (after 0ms in state CONNECT, 30 identical error(s) suppressed)\n",
      "%3|1653221016.558|FAIL|serializing test#producer-2| [thrd:127.0.0.1:9092/bootstrap]: 127.0.0.1:9092/0: Connect to ipv4#127.0.0.1:9092 failed: Connection refused (after 0ms in state CONNECT, 30 identical error(s) suppressed)\n",
      "%3|1653221046.765|FAIL|serializing test#producer-2| [thrd:127.0.0.1:9092/bootstrap]: 127.0.0.1:9092/0: Connect to ipv4#127.0.0.1:9092 failed: Connection refused (after 0ms in state CONNECT, 30 identical error(s) suppressed)\n",
      "%3|1653221076.980|FAIL|serializing test#producer-2| [thrd:127.0.0.1:9092/bootstrap]: 127.0.0.1:9092/0: Connect to ipv4#127.0.0.1:9092 failed: Connection refused (after 0ms in state CONNECT, 31 identical error(s) suppressed)\n",
      "%3|1653221107.104|FAIL|serializing test#producer-2| [thrd:127.0.0.1:9092/bootstrap]: 127.0.0.1:9092/0: Connect to ipv4#127.0.0.1:9092 failed: Connection refused (after 0ms in state CONNECT, 30 identical error(s) suppressed)\n",
      "%3|1653221137.168|FAIL|serializing test#producer-2| [thrd:127.0.0.1:9092/bootstrap]: 127.0.0.1:9092/0: Connect to ipv4#127.0.0.1:9092 failed: Connection refused (after 0ms in state CONNECT, 30 identical error(s) suppressed)\n",
      "%3|1653221167.226|FAIL|serializing test#producer-2| [thrd:127.0.0.1:9092/bootstrap]: 127.0.0.1:9092/0: Connect to ipv4#127.0.0.1:9092 failed: Connection refused (after 0ms in state CONNECT, 30 identical error(s) suppressed)\n",
      "%3|1653221197.311|FAIL|serializing test#producer-2| [thrd:127.0.0.1:9092/bootstrap]: 127.0.0.1:9092/0: Connect to ipv4#127.0.0.1:9092 failed: Connection refused (after 0ms in state CONNECT, 30 identical error(s) suppressed)\n",
      "%3|1653221227.394|FAIL|serializing test#producer-2| [thrd:127.0.0.1:9092/bootstrap]: 127.0.0.1:9092/0: Connect to ipv4#127.0.0.1:9092 failed: Connection refused (after 0ms in state CONNECT, 30 identical error(s) suppressed)\n",
      "%3|1653221257.474|FAIL|serializing test#producer-2| [thrd:127.0.0.1:9092/bootstrap]: 127.0.0.1:9092/0: Connect to ipv4#127.0.0.1:9092 failed: Connection refused (after 0ms in state CONNECT, 30 identical error(s) suppressed)\n",
      "%3|1653221287.555|FAIL|serializing test#producer-2| [thrd:127.0.0.1:9092/bootstrap]: 127.0.0.1:9092/0: Connect to ipv4#127.0.0.1:9092 failed: Connection refused (after 0ms in state CONNECT, 30 identical error(s) suppressed)\n",
      "%3|1653221317.635|FAIL|serializing test#producer-2| [thrd:127.0.0.1:9092/bootstrap]: 127.0.0.1:9092/0: Connect to ipv4#127.0.0.1:9092 failed: Connection refused (after 0ms in state CONNECT, 30 identical error(s) suppressed)\n",
      "%3|1653221347.725|FAIL|serializing test#producer-2| [thrd:127.0.0.1:9092/bootstrap]: 127.0.0.1:9092/0: Connect to ipv4#127.0.0.1:9092 failed: Connection refused (after 1ms in state CONNECT, 30 identical error(s) suppressed)\n",
      "%3|1653221377.821|FAIL|serializing test#producer-2| [thrd:127.0.0.1:9092/bootstrap]: 127.0.0.1:9092/0: Connect to ipv4#127.0.0.1:9092 failed: Connection refused (after 0ms in state CONNECT, 31 identical error(s) suppressed)\n",
      "%3|1653221407.909|FAIL|serializing test#producer-2| [thrd:127.0.0.1:9092/bootstrap]: 127.0.0.1:9092/0: Connect to ipv4#127.0.0.1:9092 failed: Connection refused (after 0ms in state CONNECT, 30 identical error(s) suppressed)\n",
      "%3|1653221437.996|FAIL|serializing test#producer-2| [thrd:127.0.0.1:9092/bootstrap]: 127.0.0.1:9092/0: Connect to ipv4#127.0.0.1:9092 failed: Connection refused (after 0ms in state CONNECT, 30 identical error(s) suppressed)\n",
      "%3|1653221468.118|FAIL|serializing test#producer-2| [thrd:127.0.0.1:9092/bootstrap]: 127.0.0.1:9092/0: Connect to ipv4#127.0.0.1:9092 failed: Connection refused (after 0ms in state CONNECT, 30 identical error(s) suppressed)\n",
      "%3|1653221498.319|FAIL|serializing test#producer-2| [thrd:127.0.0.1:9092/bootstrap]: 127.0.0.1:9092/0: Connect to ipv4#127.0.0.1:9092 failed: Connection refused (after 0ms in state CONNECT, 30 identical error(s) suppressed)\n",
      "%3|1653221528.528|FAIL|serializing test#producer-2| [thrd:127.0.0.1:9092/bootstrap]: 127.0.0.1:9092/0: Connect to ipv4#127.0.0.1:9092 failed: Connection refused (after 0ms in state CONNECT, 30 identical error(s) suppressed)\n",
      "%3|1653221558.728|FAIL|serializing test#producer-2| [thrd:127.0.0.1:9092/bootstrap]: 127.0.0.1:9092/0: Connect to ipv4#127.0.0.1:9092 failed: Connection refused (after 0ms in state CONNECT, 30 identical error(s) suppressed)\n",
      "%3|1653221588.921|FAIL|serializing test#producer-2| [thrd:127.0.0.1:9092/bootstrap]: 127.0.0.1:9092/0: Connect to ipv4#127.0.0.1:9092 failed: Connection refused (after 0ms in state CONNECT, 30 identical error(s) suppressed)\n",
      "%3|1653221619.133|FAIL|serializing test#producer-2| [thrd:127.0.0.1:9092/bootstrap]: 127.0.0.1:9092/0: Connect to ipv4#127.0.0.1:9092 failed: Connection refused (after 0ms in state CONNECT, 30 identical error(s) suppressed)\n",
      "%3|1653221649.346|FAIL|serializing test#producer-2| [thrd:127.0.0.1:9092/bootstrap]: 127.0.0.1:9092/0: Connect to ipv4#127.0.0.1:9092 failed: Connection refused (after 0ms in state CONNECT, 30 identical error(s) suppressed)\n",
      "%3|1653221679.490|FAIL|serializing test#producer-2| [thrd:127.0.0.1:9092/bootstrap]: 127.0.0.1:9092/0: Connect to ipv4#127.0.0.1:9092 failed: Connection refused (after 0ms in state CONNECT, 31 identical error(s) suppressed)\n",
      "%3|1653221709.546|FAIL|serializing test#producer-2| [thrd:127.0.0.1:9092/bootstrap]: 127.0.0.1:9092/0: Connect to ipv4#127.0.0.1:9092 failed: Connection refused (after 0ms in state CONNECT, 30 identical error(s) suppressed)\n",
      "%3|1653221739.613|FAIL|serializing test#producer-2| [thrd:127.0.0.1:9092/bootstrap]: 127.0.0.1:9092/0: Connect to ipv4#127.0.0.1:9092 failed: Connection refused (after 0ms in state CONNECT, 30 identical error(s) suppressed)\n",
      "%3|1653221769.680|FAIL|serializing test#producer-2| [thrd:127.0.0.1:9092/bootstrap]: 127.0.0.1:9092/0: Connect to ipv4#127.0.0.1:9092 failed: Connection refused (after 0ms in state CONNECT, 30 identical error(s) suppressed)\n"
     ]
    }
   ],
   "source": [
    "import uuid\n",
    "import time\n",
    "\n",
    "num_session = 1000\n",
    "sessions = [uuid.uuid1().hex for x in range(num_session)]\n",
    "\n",
    "for sessionId in sessions:\n",
    "    militime = round(time.time() * 1000)\n",
    "    userEvent = UserEvent(sessionId, \"SESSION_START\", militime)\n",
    "    kmsg_value = json.dumps(userEvent.__dict__).encode('utf-8')\n",
    "    kmsg_key = userEvent.sessionId\n",
    "    kproducer.produce('sessions-input-2', key=kmsg_key, value=kmsg_value)\n",
    "    time.sleep(0.15)\n",
    "\n",
    "for sessionId in sessions:\n",
    "    militime = round(time.time() * 1000)\n",
    "    userEvent = UserEvent(sessionId, \"SESSION_DESTROY\", militime)\n",
    "    kmsg_value = json.dumps(userEvent.__dict__).encode('utf-8')\n",
    "    kmsg_key = userEvent.sessionId\n",
    "    kproducer.produce('sessions-input-2', key=kmsg_key, value=kmsg_value)\n"
   ]
  },
  {
   "cell_type": "code",
   "execution_count": 27,
   "id": "c7790022",
   "metadata": {},
   "outputs": [
    {
     "data": {
      "text/plain": [
       "'d568c986d9ae11ec9a5aacde48001122'"
      ]
     },
     "execution_count": 27,
     "metadata": {},
     "output_type": "execute_result"
    },
    {
     "name": "stderr",
     "output_type": "stream",
     "text": [
      "%3|1653210688.671|FAIL|serializing test#producer-2| [thrd:127.0.0.1:9092/bootstrap]: 127.0.0.1:9092/0: Connect to ipv4#127.0.0.1:9092 failed: Connection refused (after 0ms in state CONNECT, 30 identical error(s) suppressed)\n",
      "%3|1653210718.753|FAIL|serializing test#producer-2| [thrd:127.0.0.1:9092/bootstrap]: 127.0.0.1:9092/0: Connect to ipv4#127.0.0.1:9092 failed: Connection refused (after 0ms in state CONNECT, 30 identical error(s) suppressed)\n",
      "%3|1653210748.818|FAIL|serializing test#producer-2| [thrd:127.0.0.1:9092/bootstrap]: 127.0.0.1:9092/0: Connect to ipv4#127.0.0.1:9092 failed: Connection refused (after 0ms in state CONNECT, 30 identical error(s) suppressed)\n",
      "%3|1653210778.892|FAIL|serializing test#producer-2| [thrd:127.0.0.1:9092/bootstrap]: 127.0.0.1:9092/0: Connect to ipv4#127.0.0.1:9092 failed: Connection refused (after 0ms in state CONNECT, 30 identical error(s) suppressed)\n"
     ]
    }
   ],
   "source": [
    "uuidOne.hex"
   ]
  },
  {
   "cell_type": "code",
   "execution_count": 31,
   "id": "c2933081",
   "metadata": {},
   "outputs": [
    {
     "name": "stdout",
     "output_type": "stream",
     "text": [
      "abort_transaction\n",
      "begin_transaction\n",
      "commit_transaction\n",
      "flush\n",
      "init_transactions\n",
      "list_topics\n",
      "poll\n",
      "produce\n",
      "purge\n",
      "send_offsets_to_transaction\n"
     ]
    },
    {
     "name": "stderr",
     "output_type": "stream",
     "text": [
      "%3|1653210899.219|FAIL|serializing test#producer-2| [thrd:127.0.0.1:9092/bootstrap]: 127.0.0.1:9092/0: Connect to ipv4#127.0.0.1:9092 failed: Connection refused (after 0ms in state CONNECT, 30 identical error(s) suppressed)\n",
      "%3|1653210929.297|FAIL|serializing test#producer-2| [thrd:127.0.0.1:9092/bootstrap]: 127.0.0.1:9092/0: Connect to ipv4#127.0.0.1:9092 failed: Connection refused (after 0ms in state CONNECT, 30 identical error(s) suppressed)\n",
      "%3|1653210959.378|FAIL|serializing test#producer-2| [thrd:127.0.0.1:9092/bootstrap]: 127.0.0.1:9092/0: Connect to ipv4#127.0.0.1:9092 failed: Connection refused (after 0ms in state CONNECT, 30 identical error(s) suppressed)\n",
      "%3|1653210989.451|FAIL|serializing test#producer-2| [thrd:127.0.0.1:9092/bootstrap]: 127.0.0.1:9092/0: Connect to ipv4#127.0.0.1:9092 failed: Connection refused (after 0ms in state CONNECT, 30 identical error(s) suppressed)\n"
     ]
    }
   ],
   "source": [
    "for i in dir(kproducer):\n",
    "    if \"__\" not in i:\n",
    "        print(i)"
   ]
  },
  {
   "cell_type": "code",
   "execution_count": null,
   "id": "311cb46b",
   "metadata": {},
   "outputs": [],
   "source": []
  }
 ],
 "metadata": {
  "interpreter": {
   "hash": "ba3d1b556940e89e61bc6de92512da14294496b595076ca2e3c7074e152cd2ba"
  },
  "kernelspec": {
   "display_name": "Python 3.8.8 ('ml')",
   "language": "python",
   "name": "python3"
  },
  "language_info": {
   "codemirror_mode": {
    "name": "ipython",
    "version": 3
   },
   "file_extension": ".py",
   "mimetype": "text/x-python",
   "name": "python",
   "nbconvert_exporter": "python",
   "pygments_lexer": "ipython3",
   "version": "3.8.8"
  }
 },
 "nbformat": 4,
 "nbformat_minor": 5
}
